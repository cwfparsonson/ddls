{
 "cells": [
  {
   "cell_type": "code",
   "execution_count": 1,
   "id": "ba59bfe6",
   "metadata": {},
   "outputs": [],
   "source": [
    "%load_ext autoreload\n",
    "from ddls.plotting.plotting import plot_line, plot_bar, plot_hist\n",
    "\n",
    "from collections import defaultdict\n",
    "from sqlitedict import SqliteDict\n",
    "import pprint\n",
    "import glob\n",
    "import time\n",
    "import pandas as pd\n",
    "import numpy as np\n",
    "import scipy.stats as st"
   ]
  },
  {
   "cell_type": "code",
   "execution_count": 2,
   "id": "f3da6f0e",
   "metadata": {},
   "outputs": [
    {
     "name": "stdout",
     "output_type": "stream",
     "text": [
      "i: 22 | agent: cluster_22 | paths: ['/scratch/datasets/ddls/sims//cluster/cluster_22/reset_2/', '/scratch/datasets/ddls/sims//cluster/cluster_22/reset_1/', '/scratch/datasets/ddls/sims//cluster/cluster_22/reset_3/']\n",
      "i: 24 | agent: cluster_24 | paths: ['/scratch/datasets/ddls/sims//cluster/cluster_24/reset_2/', '/scratch/datasets/ddls/sims//cluster/cluster_24/reset_1/', '/scratch/datasets/ddls/sims//cluster/cluster_24/reset_3/']\n",
      "i: 26 | agent: cluster_26 | paths: ['/scratch/datasets/ddls/sims//cluster/cluster_26/reset_2/', '/scratch/datasets/ddls/sims//cluster/cluster_26/reset_1/', '/scratch/datasets/ddls/sims//cluster/cluster_26/reset_3/']\n"
     ]
    }
   ],
   "source": [
    "%autoreload\n",
    "\n",
    "# load files\n",
    "base_folder = '/scratch/datasets/ddls/sims/'\n",
    "base_name = 'cluster'\n",
    "ids = [22, 24, 26]\n",
    "\n",
    "\n",
    "steps_logs_dict = defaultdict(lambda : defaultdict(list))\n",
    "sim_logs_dict = defaultdict(lambda : defaultdict(list))\n",
    "start_time = time.time()\n",
    "for i in ids:\n",
    "    agent = base_name + f'_{i}'\n",
    "    paths = [reset_folder for reset_folder in glob.glob(base_folder + f'/{base_name}/{agent}/*/')]\n",
    "    print(f'i: {i} | agent: {agent} | paths: {paths}')\n",
    "    \n",
    "    for path in paths:\n",
    "        with SqliteDict(path + '/steps_log.sqlite') as log:\n",
    "            for key, val in log.items():\n",
    "                steps_logs_dict[agent][key].extend(val)\n",
    "            log.close()\n",
    "\n",
    "        with SqliteDict(path + '/sim_log.sqlite') as log:\n",
    "            for key, val in log.items():\n",
    "                sim_logs_dict[agent][key].extend(val)\n",
    "            log.close()"
   ]
  },
  {
   "cell_type": "code",
   "execution_count": null,
   "id": "10ed5b60",
   "metadata": {},
   "outputs": [],
   "source": [
    "# augment logs dict as desired\n",
    "\n",
    "# def augment_steps_logs_dict(steps_logs_dict):\n",
    "#     for agent in steps_logs_dict.keys():\n",
    "        \n",
    "# #         wallclock time\n",
    "# #         steps_logs_dict[agent]['wallclock_time'] = [steps_logs_dict[agent]['step_end_time'][0]]\n",
    "# #         for step_end_time in steps_logs_dict[agent]['step_end_time'][1:]:\n",
    "# #             steps_logs_dict[agent]['wallclock_time'].append(steps_logs_dict[agent]['wallclock_time'][-1] + step_end_time)\n",
    "#     steps_logs_dict = []\n",
    "    \n",
    "#     return steps_logs_dict\n",
    "            \n",
    "# steps_logs_dict = augment_steps_logs_dict(steps_logs_dict)\n",
    "        \n",
    "print(f'\\nsteps_logs_dict: {steps_logs_dict}\\n')\n",
    "print(f'\\nsim_logs_dict: {sim_logs_dict}\\n')\n",
    "print(f'\\nAll data loaded in {time.time() - start_time:.3f} s.')"
   ]
  },
  {
   "cell_type": "markdown",
   "id": "0cb12887",
   "metadata": {},
   "source": [
    "# Steps logs plots"
   ]
  },
  {
   "cell_type": "code",
   "execution_count": null,
   "id": "c5f80193",
   "metadata": {
    "scrolled": false
   },
   "outputs": [],
   "source": [
    "%autoreload\n",
    "\n",
    "# plot config\n",
    "# x = 'step_counter'\n",
    "x = 'step_end_time'\n",
    "scaling_factor = 1\n",
    "metrics_to_skip = {x}\n",
    "\n",
    "# make plots\n",
    "metrics = steps_logs_dict[agent].keys()\n",
    "metrics_to_plot = sorted([metric for metric in metrics if metric not in metrics_to_skip])\n",
    "print(f'Metrics to plot: {metrics_to_plot}\\nMetrics to skip: {metrics_to_skip}\\n')\n",
    "for metric in metrics_to_plot:\n",
    "    print(f'Plotting metric {metric}')\n",
    "    plot_dict = defaultdict(list)\n",
    "    for _agent in steps_logs_dict.keys():\n",
    "        plot_dict['Agent'].extend([_agent for _ in range(len(steps_logs_dict[_agent][metric]))])\n",
    "        plot_dict[x].extend(steps_logs_dict[_agent][x])\n",
    "        plot_dict[metric].extend(steps_logs_dict[_agent][metric])\n",
    "    fig = plot_line(pd.DataFrame(plot_dict), \n",
    "                    x=x, \n",
    "                    y=metric, \n",
    "                    hue='Agent', \n",
    "                    xlabel=x, \n",
    "                    ylabel=metric, \n",
    "                    err_style='band', # 'band' 'bars'\n",
    "                    ci=68, # 95 68\n",
    "                    scaling_factor=scaling_factor,\n",
    "                    show_fig=True)"
   ]
  },
  {
   "cell_type": "markdown",
   "id": "b3e21bf1",
   "metadata": {},
   "source": [
    "# Sim logs plots"
   ]
  },
  {
   "cell_type": "code",
   "execution_count": null,
   "id": "4e6e1588",
   "metadata": {
    "scrolled": false
   },
   "outputs": [],
   "source": [
    "%autoreload\n",
    "\n",
    "# plot config\n",
    "scaling_factor = 1\n",
    "metrics_to_skip = {}\n",
    "def p99(a):\n",
    "    return np.percentile(a, 99)\n",
    "estimators = {'mean': np.mean,\n",
    "              'p99': p99,\n",
    "              'iqr': st.iqr,\n",
    "              'gmean': st.gmean}\n",
    "\n",
    "\n",
    "# make plots\n",
    "metrics = sim_logs_dict[agent].keys()\n",
    "metrics_to_plot = sorted([metric for metric in metrics if metric not in metrics_to_skip])\n",
    "print(f'Metrics to plot: {metrics_to_plot}\\nMetrics to skip: {metrics_to_skip}\\n')\n",
    "for metric in metrics_to_plot:\n",
    "    print(f'Plotting metric {metric}')\n",
    "    plot_dict = defaultdict(list)\n",
    "    for _agent in sim_logs_dict.keys():\n",
    "        plot_dict['Agent'].extend([_agent for _ in range(len(sim_logs_dict[_agent][metric]))])\n",
    "        plot_dict[metric].extend(sim_logs_dict[_agent][metric])\n",
    "        \n",
    "    df = pd.DataFrame(plot_dict)\n",
    "        \n",
    "    # hist\n",
    "    fig = plot_hist(df,\n",
    "                    x=metric,\n",
    "                    hue='Agent',\n",
    "                    xlabel=metric,\n",
    "                    element='bars',\n",
    "                    fill=True,\n",
    "                    cumulative=False,\n",
    "                    stat='count',\n",
    "                    multiple='layer',\n",
    "                    scaling_factor=scaling_factor,\n",
    "                    show_fig=True)\n",
    "    \n",
    "    # cdf\n",
    "    fig = plot_hist(df,\n",
    "                    x=metric,\n",
    "                    hue='Agent',\n",
    "                    xlabel=metric,\n",
    "                    element='step',\n",
    "                    fill=False,\n",
    "                    cumulative=True,\n",
    "                    stat='density',\n",
    "                    common_norm=False,\n",
    "                    scaling_factor=scaling_factor,\n",
    "                    show_fig=True)\n",
    "        \n",
    "    # bar chart\n",
    "    for estimator_name, estimator in estimators.items():\n",
    "        fig = plot_bar(df, \n",
    "                        x='Agent', \n",
    "                        y=metric, \n",
    "                        xlabel='Agent', \n",
    "                        ylabel=metric, \n",
    "                        estimator=estimator,\n",
    "                        title=estimator_name,\n",
    "                        scaling_factor=scaling_factor,\n",
    "                        show_fig=True)"
   ]
  },
  {
   "cell_type": "code",
   "execution_count": null,
   "id": "c7bd6243",
   "metadata": {},
   "outputs": [],
   "source": []
  }
 ],
 "metadata": {
  "kernelspec": {
   "display_name": "ddls",
   "language": "python",
   "name": "ddls"
  },
  "language_info": {
   "codemirror_mode": {
    "name": "ipython",
    "version": 3
   },
   "file_extension": ".py",
   "mimetype": "text/x-python",
   "name": "python",
   "nbconvert_exporter": "python",
   "pygments_lexer": "ipython3",
   "version": "3.9.7"
  }
 },
 "nbformat": 4,
 "nbformat_minor": 5
}
