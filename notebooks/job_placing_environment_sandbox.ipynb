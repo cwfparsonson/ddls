{
 "cells": [
  {
   "cell_type": "code",
   "execution_count": 20,
   "id": "f9fa1240",
   "metadata": {},
   "outputs": [
    {
     "name": "stdout",
     "output_type": "stream",
     "text": [
      "The autoreload extension is already loaded. To reload it, use:\n",
      "  %reload_ext autoreload\n"
     ]
    }
   ],
   "source": [
    "%load_ext autoreload\n",
    "from ddls.devices.processors.gpus.A100 import A100\n",
    "from ddls.utils import ddls_graph_from_pbtxt_file\n",
    "from ddls.plotting.plotting import plot_computation_graph\n",
    "from ddls.environments.job_placing.job_placing_all_nodes_environment import JobPlacingAllNodesEnvironment\n",
    "from ddls.demands.jobs.job import Job\n",
    "from ddls.distributions.uniform import Uniform\n",
    "from ddls.utils import seed_stochastic_modules_globally\n",
    "\n",
    "import glob\n",
    "import numpy as np"
   ]
  },
  {
   "cell_type": "markdown",
   "id": "46092d4a",
   "metadata": {},
   "source": [
    "Initialise a placement agent"
   ]
  },
  {
   "cell_type": "code",
   "execution_count": 21,
   "id": "e82e6383",
   "metadata": {},
   "outputs": [],
   "source": [
    "class RandomJobPlacingAgent:\n",
    "    def __init__(self, name: str = 'random'):\n",
    "        self.name = name\n",
    "    \n",
    "    def select_action(self, obs):\n",
    "        return np.random.choice(obs.action_set[obs.action_mask])"
   ]
  },
  {
   "cell_type": "markdown",
   "id": "2d99f138",
   "metadata": {},
   "source": [
    "Initialise the DDLS jobs"
   ]
  },
  {
   "cell_type": "code",
   "execution_count": 22,
   "id": "17c20c68",
   "metadata": {},
   "outputs": [
    {
     "name": "stdout",
     "output_type": "stream",
     "text": [
      "Job ID: 139653723152880 | # nodes: 96 | # edges: 410 | # training steps: 2 | Total op mem cost: 0 | Total dep size: 13914\n"
     ]
    }
   ],
   "source": [
    "%autoreload\n",
    "\n",
    "# get file paths\n",
    "path_to_files = '/scratch/datasets/ddls/jobs/tensorflow_synthetic_graphs/valid'\n",
    "file_paths = glob.glob(path_to_files + '/*')\n",
    "    \n",
    "# create ddls graph\n",
    "num_graphs = 1\n",
    "ddls_computation_graphs = [ddls_graph_from_pbtxt_file(file_path, processor_type_profiled='A100', verbose=False) for file_path in file_paths[:num_graphs]]\n",
    "\n",
    "# visualise\n",
    "visualise = False\n",
    "if visualise:\n",
    "    for graph in ddls_computation_graphs:\n",
    "        fig = plot_computation_graph(graph, scaling_factor=3, title='ddls_graph', show_fig=True, verbose=True)\n",
    "        \n",
    "# create ddls jobs from ddls graphs\n",
    "jobs = [Job(computation_graph=graph, num_training_steps=2) for graph in ddls_computation_graphs]\n",
    "for job in jobs:\n",
    "    print(job)"
   ]
  },
  {
   "cell_type": "markdown",
   "id": "96c30054",
   "metadata": {},
   "source": [
    "Initialise the DDLS environment"
   ]
  },
  {
   "cell_type": "code",
   "execution_count": 23,
   "id": "e6ee5a48",
   "metadata": {},
   "outputs": [],
   "source": [
    "%autoreload\n",
    "\n",
    "\n",
    "node_config = {'type_1':\n",
    "                  {\n",
    "                      'num_nodes': 16,\n",
    "                      'workers_config': \n",
    "                          [\n",
    "                              {\n",
    "                               'num_workers': 4,\n",
    "                               'worker': A100\n",
    "                              }\n",
    "                          ]\n",
    "                  }\n",
    "              }\n",
    "\n",
    "topology_config = {'type':\n",
    "                      'torus',\n",
    "                   'kwargs':\n",
    "                      {\n",
    "                          'x_dims': 4,\n",
    "                          'y_dims': 4\n",
    "                      }\n",
    "                  }\n",
    "\n",
    "jobs_config = {'path_to_files': '/scratch/datasets/ddls/jobs/tensorflow_synthetic_graphs/valid',\n",
    "               'job_interarrival_time_dist': Uniform(min_val=1, max_val=1000),\n",
    "               'max_files': 1,\n",
    "               'job_sampling_mode': 'remove'}\n",
    "\n",
    "env = JobPlacingAllNodesEnvironment(topology_config=topology_config,\n",
    "                                    node_config=node_config,\n",
    "                                    jobs_config=jobs_config,\n",
    "                                    continuous_action_mode=False,\n",
    "                                    worker_selection='random',\n",
    "                                    op_allocation='sequential',\n",
    "                                    observation_function='default',\n",
    "                                    reward_function='mean_job_completion_time',\n",
    "                                    max_cluster_simulation_run_time=float('inf'),\n",
    "                                    job_queue_capacity=10,\n",
    "#                                     path_to_save='/scratch/datasets/ddls/sims',\n",
    "                                    path_to_save=None,\n",
    "                                    save_cluster_data=False,\n",
    "                                    save_freq=100,\n",
    "                                    use_sqlite_database=True)"
   ]
  },
  {
   "cell_type": "markdown",
   "id": "f7ac03a6",
   "metadata": {},
   "source": [
    "Lets try using a random agent to place the nodes."
   ]
  },
  {
   "cell_type": "code",
   "execution_count": 24,
   "id": "74d9ff30",
   "metadata": {},
   "outputs": [
    {
     "name": "stdout",
     "output_type": "stream",
     "text": [
      "\n",
      "\n",
      "\n",
      "~~~~~~~~~~~~~~~~~~~~~~~ Seed 0 ~~~~~~~~~~~~~~~~~~~~~~~\n",
      "\n",
      "Step 0\n",
      "Obs: Node feats: # nodes: 96 | # feats per node: 9 | # flattened feats per node: 16 || Edge feats: None || Global feats: # global features: 4 | # flattened global feats: 130 || Action info: action space: (65,) | # valid candidate actions: 65\n",
      "Action: 47\n",
      "Reward: -6572.0\n",
      "Done: True\n",
      "Info: None\n",
      "\n",
      "\n",
      "\n",
      "~~~~~~~~~~~~~~~~~~~~~~~ Seed 1 ~~~~~~~~~~~~~~~~~~~~~~~\n",
      "\n",
      "Step 0\n",
      "Obs: Node feats: # nodes: 96 | # feats per node: 9 | # flattened feats per node: 16 || Edge feats: None || Global feats: # global features: 4 | # flattened global feats: 130 || Action info: action space: (65,) | # valid candidate actions: 65\n",
      "Action: 12\n",
      "Reward: -8282.0\n",
      "Done: True\n",
      "Info: None\n",
      "\n",
      "\n",
      "\n",
      "~~~~~~~~~~~~~~~~~~~~~~~ Seed 2 ~~~~~~~~~~~~~~~~~~~~~~~\n",
      "\n",
      "Step 0\n",
      "Obs: Node feats: # nodes: 96 | # feats per node: 9 | # flattened feats per node: 16 || Edge feats: None || Global feats: # global features: 4 | # flattened global feats: 130 || Action info: action space: (65,) | # valid candidate actions: 65\n",
      "Action: 15\n",
      "Reward: -7026.0\n",
      "Done: True\n",
      "Info: None\n",
      "\n",
      "Finished.\n"
     ]
    }
   ],
   "source": [
    "seeds = [0, 1, 2]\n",
    "# seeds = [0]\n",
    "\n",
    "agent = RandomJobPlacingAgent()\n",
    "\n",
    "for seed in seeds:\n",
    "    print(f'\\n\\n\\n~~~~~~~~~~~~~~~~~~~~~~~ Seed {seed} ~~~~~~~~~~~~~~~~~~~~~~~')\n",
    "    step_counter = 0\n",
    "    obs, reward, done, info = env.reset(seed=seed)\n",
    "    while not done:\n",
    "        action = agent.select_action(obs)\n",
    "        prev_obs = obs # save\n",
    "        obs, reward, done, info = env.step(action)\n",
    "        print(f'\\nStep {step_counter}\\nObs: {prev_obs}\\nAction: {action}\\nReward: {reward}\\nDone: {done}\\nInfo: {info}')\n",
    "        step_counter += 1\n",
    "print('\\nFinished.')"
   ]
  },
  {
   "cell_type": "code",
   "execution_count": null,
   "id": "b2f096df",
   "metadata": {},
   "outputs": [],
   "source": []
  },
  {
   "cell_type": "code",
   "execution_count": null,
   "id": "0fb0378d",
   "metadata": {},
   "outputs": [],
   "source": []
  },
  {
   "cell_type": "code",
   "execution_count": null,
   "id": "f8dab52d",
   "metadata": {},
   "outputs": [],
   "source": []
  }
 ],
 "metadata": {
  "kernelspec": {
   "display_name": "Python 3",
   "language": "python",
   "name": "python3"
  },
  "language_info": {
   "codemirror_mode": {
    "name": "ipython",
    "version": 3
   },
   "file_extension": ".py",
   "mimetype": "text/x-python",
   "name": "python",
   "nbconvert_exporter": "python",
   "pygments_lexer": "ipython3",
   "version": "3.9.7"
  }
 },
 "nbformat": 4,
 "nbformat_minor": 5
}
