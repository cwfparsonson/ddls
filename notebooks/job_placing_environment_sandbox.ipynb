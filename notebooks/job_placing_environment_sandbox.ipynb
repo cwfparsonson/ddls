{
 "cells": [
  {
   "cell_type": "code",
   "execution_count": 55,
   "id": "f9fa1240",
   "metadata": {},
   "outputs": [
    {
     "name": "stdout",
     "output_type": "stream",
     "text": [
      "The autoreload extension is already loaded. To reload it, use:\n",
      "  %reload_ext autoreload\n"
     ]
    }
   ],
   "source": [
    "%load_ext autoreload\n",
    "from ddls.devices.processors.gpus.A100 import A100\n",
    "from ddls.utils import ddls_graph_from_pbtxt_file\n",
    "from ddls.plotting.plotting import plot_computation_graph\n",
    "from ddls.environments.job_placing.job_placing_all_nodes_environment import JobPlacingAllNodesEnvironment\n",
    "from ddls.demands.jobs.job import Job\n",
    "from ddls.distributions.uniform import Uniform\n",
    "\n",
    "import glob"
   ]
  },
  {
   "cell_type": "code",
   "execution_count": 62,
   "id": "17c20c68",
   "metadata": {},
   "outputs": [],
   "source": [
    "%autoreload\n",
    "\n",
    "# get file paths\n",
    "path_to_files = '/scratch/datasets/ddls/jobs/tensorflow_synthetic_graphs/valid'\n",
    "file_paths = glob.glob(path_to_files + '/*')\n",
    "    \n",
    "# create ddls graph\n",
    "num_graphs = 1\n",
    "ddls_computation_graphs = [ddls_graph_from_pbtxt_file(file_path, processor_type_profiled='A100', verbose=False) for file_path in file_paths[:num_graphs]]\n",
    "\n",
    "# visualise\n",
    "visualise = False\n",
    "if visualise:\n",
    "    for graph in ddls_computation_graphs:\n",
    "        fig = plot_computation_graph(graph, scaling_factor=3, title='ddls_graph', show_fig=True, verbose=True)\n",
    "        \n",
    "# create ddls jobs from ddls graphs\n",
    "jobs = [Job(computation_graph=graph, num_training_steps=2) for graph in ddls_computation_graphs]"
   ]
  },
  {
   "cell_type": "code",
   "execution_count": 63,
   "id": "9f89288b",
   "metadata": {},
   "outputs": [
    {
     "name": "stdout",
     "output_type": "stream",
     "text": [
      "{'type_1': {'num_nodes': 16, 'workers_config': [{'num_workers': 4, 'worker': <class 'ddls.devices.processors.gpus.A100.A100'>}]}}\n"
     ]
    }
   ],
   "source": [
    "%autoreload\n",
    "\n",
    "node_config = {'type_1':\n",
    "                  {\n",
    "                      'num_nodes': 16,\n",
    "                      'workers_config': \n",
    "                          [\n",
    "                              {\n",
    "                               'num_workers': 4,\n",
    "                               'worker': A100\n",
    "                              }\n",
    "                          ]\n",
    "                  }\n",
    "              }\n",
    "\n",
    "print(node_config)"
   ]
  },
  {
   "cell_type": "code",
   "execution_count": 64,
   "id": "710e0604",
   "metadata": {},
   "outputs": [],
   "source": [
    "%autoreload\n",
    "\n",
    "topology_config = {'type':\n",
    "                      'torus',\n",
    "                   'kwargs':\n",
    "                      {\n",
    "                          'x_dims': 4,\n",
    "                          'y_dims': 4\n",
    "                      }\n",
    "                  }"
   ]
  },
  {
   "cell_type": "code",
   "execution_count": 65,
   "id": "e6ee5a48",
   "metadata": {},
   "outputs": [],
   "source": [
    "%autoreload\n",
    "\n",
    "env = JobPlacingAllNodesEnvironment(topology_config=topology_config,\n",
    "                                    node_config=node_config,\n",
    "                                    jobs=jobs,\n",
    "                                    job_sampling_mode='remove',\n",
    "                                    job_interarrival_time_dist=Uniform(min_val=1, max_val=1000),\n",
    "                                    max_cluster_simulation_run_time=float('inf'),\n",
    "                                    job_queue_capacity=10,\n",
    "                                    seed=0,\n",
    "#                                     path_to_save='/scratch/datasets/ddls/sims',\n",
    "                                    path_to_save=None,\n",
    "                                    save_cluster_data=False,\n",
    "                                    save_freq=100,\n",
    "                                    use_sqlite_database=True)"
   ]
  },
  {
   "cell_type": "code",
   "execution_count": 66,
   "id": "274c7af8",
   "metadata": {},
   "outputs": [
    {
     "name": "stdout",
     "output_type": "stream",
     "text": [
      "\n",
      "Encoded job obs:\n",
      "(96, 13)\n",
      "[[array([0.0], dtype=object) array(False, dtype=object)\n",
      "  array(0, dtype=object) ...\n",
      "  array([0, 0, 0, 0, 0, 0, 0, 0, 0, 0, 0, 0, 0, 0, 0, 0, 0, 0, 0, 0, 0, 0,\n",
      "         0, 0, 0, 0, 0, 0, 0, 0, 0, 0, 0, 0, 0, 0, 0, 0, 0, 0, 0, 0, 0, 0,\n",
      "         0, 0, 0, 0, 0, 0, 0, 0, 0, 0, 0, 0, 0, 0, 0, 0, 0, 0, 0, 0],\n",
      "        dtype=object)\n",
      "  array([0, 0, 0, 0, 0, 0, 0, 0, 0, 0, 0, 0, 0, 0, 0, 0, 0, 0, 0, 0, 0, 0,\n",
      "         0, 0, 0, 0, 0, 0, 0, 0, 0, 0, 0, 0, 0, 0, 0, 0, 0, 0, 0, 0, 0, 0,\n",
      "         0, 0, 0, 0, 0, 0, 0, 0, 0, 0, 0, 0, 0, 0, 0, 0, 0, 0, 0, 0],\n",
      "        dtype=object)\n",
      "  array(0.0, dtype=object)]\n",
      " [array([0.12357414448669202], dtype=object) array(False, dtype=object)\n",
      "  array(0, dtype=object) ...\n",
      "  array([0, 0, 0, 0, 0, 0, 0, 0, 0, 0, 0, 0, 0, 0, 0, 0, 0, 0, 0, 0, 0, 0,\n",
      "         0, 0, 0, 0, 0, 0, 0, 0, 0, 0, 0, 0, 0, 0, 0, 0, 0, 0, 0, 0, 0, 0,\n",
      "         0, 0, 0, 0, 0, 0, 0, 0, 0, 0, 0, 0, 0, 0, 0, 0, 0, 0, 0, 0],\n",
      "        dtype=object)\n",
      "  array([0, 0, 0, 0, 0, 0, 0, 0, 0, 0, 0, 0, 0, 0, 0, 0, 0, 0, 0, 0, 0, 0,\n",
      "         0, 0, 0, 0, 0, 0, 0, 0, 0, 0, 0, 0, 0, 0, 0, 0, 0, 0, 0, 0, 0, 0,\n",
      "         0, 0, 0, 0, 0, 0, 0, 0, 0, 0, 0, 0, 0, 0, 0, 0, 0, 0, 0, 0],\n",
      "        dtype=object)\n",
      "  array(0.0, dtype=object)]\n",
      " [array([0.11596958174904944], dtype=object) array(False, dtype=object)\n",
      "  array(0, dtype=object) ...\n",
      "  array([0, 0, 0, 0, 0, 0, 0, 0, 0, 0, 0, 0, 0, 0, 0, 0, 0, 0, 0, 0, 0, 0,\n",
      "         0, 0, 0, 0, 0, 0, 0, 0, 0, 0, 0, 0, 0, 0, 0, 0, 0, 0, 0, 0, 0, 0,\n",
      "         0, 0, 0, 0, 0, 0, 0, 0, 0, 0, 0, 0, 0, 0, 0, 0, 0, 0, 0, 0],\n",
      "        dtype=object)\n",
      "  array([0, 0, 0, 0, 0, 0, 0, 0, 0, 0, 0, 0, 0, 0, 0, 0, 0, 0, 0, 0, 0, 0,\n",
      "         0, 0, 0, 0, 0, 0, 0, 0, 0, 0, 0, 0, 0, 0, 0, 0, 0, 0, 0, 0, 0, 0,\n",
      "         0, 0, 0, 0, 0, 0, 0, 0, 0, 0, 0, 0, 0, 0, 0, 0, 0, 0, 0, 0],\n",
      "        dtype=object)\n",
      "  array(0.0, dtype=object)]\n",
      " ...\n",
      " [array([0.6730038022813688], dtype=object) array(False, dtype=object)\n",
      "  array(0, dtype=object) ...\n",
      "  array([0, 0, 0, 0, 0, 0, 0, 0, 0, 0, 0, 0, 0, 0, 0, 0, 0, 0, 0, 0, 0, 0,\n",
      "         0, 0, 0, 0, 0, 0, 0, 0, 0, 0, 0, 0, 0, 0, 0, 0, 0, 0, 0, 0, 0, 0,\n",
      "         0, 0, 0, 0, 0, 0, 0, 0, 0, 0, 0, 0, 0, 0, 0, 0, 0, 0, 0, 0],\n",
      "        dtype=object)\n",
      "  array([0, 0, 0, 0, 0, 0, 0, 0, 0, 0, 0, 0, 0, 0, 0, 0, 0, 0, 0, 0, 0, 0,\n",
      "         0, 0, 0, 0, 0, 0, 0, 0, 0, 0, 0, 0, 0, 0, 0, 0, 0, 0, 0, 0, 0, 0,\n",
      "         0, 0, 0, 0, 0, 0, 0, 0, 0, 0, 0, 0, 0, 0, 0, 0, 0, 0, 0, 0],\n",
      "        dtype=object)\n",
      "  array(0.0, dtype=object)]\n",
      " [array([0.4714828897338403], dtype=object) array(False, dtype=object)\n",
      "  array(0, dtype=object) ...\n",
      "  array([0, 0, 0, 0, 0, 0, 0, 0, 0, 0, 0, 0, 0, 0, 0, 0, 0, 0, 0, 0, 0, 0,\n",
      "         0, 0, 0, 0, 0, 0, 0, 0, 0, 0, 0, 0, 0, 0, 0, 0, 0, 0, 0, 0, 0, 0,\n",
      "         0, 0, 0, 0, 0, 0, 0, 0, 0, 0, 0, 0, 0, 0, 0, 0, 0, 0, 0, 0],\n",
      "        dtype=object)\n",
      "  array([0, 0, 0, 0, 0, 0, 0, 0, 0, 0, 0, 0, 0, 0, 0, 0, 0, 0, 0, 0, 0, 0,\n",
      "         0, 0, 0, 0, 0, 0, 0, 0, 0, 0, 0, 0, 0, 0, 0, 0, 0, 0, 0, 0, 0, 0,\n",
      "         0, 0, 0, 0, 0, 0, 0, 0, 0, 0, 0, 0, 0, 0, 0, 0, 0, 0, 0, 0],\n",
      "        dtype=object)\n",
      "  array(0.0, dtype=object)]\n",
      " [array([0.8079847908745247], dtype=object) array(False, dtype=object)\n",
      "  array(0, dtype=object) ...\n",
      "  array([0, 0, 0, 0, 0, 0, 0, 0, 0, 0, 0, 0, 0, 0, 0, 0, 0, 0, 0, 0, 0, 0,\n",
      "         0, 0, 0, 0, 0, 0, 0, 0, 0, 0, 0, 0, 0, 0, 0, 0, 0, 0, 0, 0, 0, 0,\n",
      "         0, 0, 0, 0, 0, 0, 0, 0, 0, 0, 0, 0, 0, 0, 0, 0, 0, 0, 0, 0],\n",
      "        dtype=object)\n",
      "  array([0, 0, 0, 0, 0, 0, 0, 0, 0, 0, 0, 0, 0, 0, 0, 0, 0, 0, 0, 0, 0, 0,\n",
      "         0, 0, 0, 0, 0, 0, 0, 0, 0, 0, 0, 0, 0, 0, 0, 0, 0, 0, 0, 0, 0, 0,\n",
      "         0, 0, 0, 0, 0, 0, 0, 0, 0, 0, 0, 0, 0, 0, 0, 0, 0, 0, 0, 0],\n",
      "        dtype=object)\n",
      "  array(0.0, dtype=object)]]\n",
      "\n",
      "First node feats of encoded job obs:\n",
      "(13,)\n",
      "array([array([0.0], dtype=object), array(False, dtype=object),\n",
      "       array(0, dtype=object), array(True, dtype=object),\n",
      "       array([0], dtype=object), array(0, dtype=object),\n",
      "       array([0.12357414448669202, 0.11596958174904944, 0.09695817490494296,\n",
      "              0.0741444866920152, 0.07984790874524715, 0.11216730038022814,\n",
      "              0.10076045627376426, 0.07984790874524715], dtype=object)      ,\n",
      "       array(0, dtype=object), array(0.16666666666666666, dtype=object),\n",
      "       array(1.0, dtype=object),\n",
      "       array([0, 0, 0, 0, 0, 0, 0, 0, 0, 0, 0, 0, 0, 0, 0, 0, 0, 0, 0, 0, 0, 0,\n",
      "              0, 0, 0, 0, 0, 0, 0, 0, 0, 0, 0, 0, 0, 0, 0, 0, 0, 0, 0, 0, 0, 0,\n",
      "              0, 0, 0, 0, 0, 0, 0, 0, 0, 0, 0, 0, 0, 0, 0, 0, 0, 0, 0, 0],\n",
      "             dtype=object)                                                     ,\n",
      "       array([0, 0, 0, 0, 0, 0, 0, 0, 0, 0, 0, 0, 0, 0, 0, 0, 0, 0, 0, 0, 0, 0,\n",
      "              0, 0, 0, 0, 0, 0, 0, 0, 0, 0, 0, 0, 0, 0, 0, 0, 0, 0, 0, 0, 0, 0,\n",
      "              0, 0, 0, 0, 0, 0, 0, 0, 0, 0, 0, 0, 0, 0, 0, 0, 0, 0, 0, 0],\n",
      "             dtype=object)                                                     ,\n",
      "       array(0.0, dtype=object)], dtype=object)\n",
      "\n",
      "Flattened first node feats of encoded job obs:\n",
      "(146,)\n",
      "[0.0 False 0 True 0 0 0.12357414448669202 0.11596958174904944\n",
      " 0.09695817490494296 0.0741444866920152 0.07984790874524715\n",
      " 0.11216730038022814 0.10076045627376426 0.07984790874524715 0\n",
      " 0.16666666666666666 1.0 0 0 0 0 0 0 0 0 0 0 0 0 0 0 0 0 0 0 0 0 0 0 0 0 0\n",
      " 0 0 0 0 0 0 0 0 0 0 0 0 0 0 0 0 0 0 0 0 0 0 0 0 0 0 0 0 0 0 0 0 0 0 0 0 0\n",
      " 0 0 0 0 0 0 0 0 0 0 0 0 0 0 0 0 0 0 0 0 0 0 0 0 0 0 0 0 0 0 0 0 0 0 0 0 0\n",
      " 0 0 0 0 0 0 0 0 0 0 0 0 0 0 0 0 0 0 0 0 0 0 0 0 0 0 0 0 0 0.0]\n"
     ]
    }
   ],
   "source": [
    "%autoreload\n",
    "\n",
    "env.reset()"
   ]
  },
  {
   "cell_type": "code",
   "execution_count": null,
   "id": "065ffccc",
   "metadata": {},
   "outputs": [],
   "source": [
    "print(env.cluster)"
   ]
  }
 ],
 "metadata": {
  "kernelspec": {
   "display_name": "ddls",
   "language": "python",
   "name": "ddls"
  },
  "language_info": {
   "codemirror_mode": {
    "name": "ipython",
    "version": 3
   },
   "file_extension": ".py",
   "mimetype": "text/x-python",
   "name": "python",
   "nbconvert_exporter": "python",
   "pygments_lexer": "ipython3",
   "version": "3.9.7"
  }
 },
 "nbformat": 4,
 "nbformat_minor": 5
}
