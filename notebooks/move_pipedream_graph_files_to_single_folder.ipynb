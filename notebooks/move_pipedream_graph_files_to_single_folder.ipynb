{
 "cells": [
  {
   "cell_type": "code",
   "execution_count": 26,
   "id": "86e8227c-c28f-4f15-b0c8-68305b9343f0",
   "metadata": {},
   "outputs": [],
   "source": [
    "import glob\n",
    "import shutil"
   ]
  },
  {
   "cell_type": "code",
   "execution_count": 32,
   "id": "2f4c0958-94d2-4d94-9b7e-48ec0b5f7c42",
   "metadata": {},
   "outputs": [],
   "source": [
    "# IMAGE CLASSIFICATION\n",
    "src_folder = '/scratch/datasets/ddls/jobs/pipedream_graphs/image_classification/profiles'\n",
    "# target_folder = '/scratch/datasets/ddls/jobs/image_classification/training'\n",
    "target_folder = '/scratch/datasets/ddls/jobs/image_classification/validation'\n",
    "\n",
    "# # TRANSLATION\n",
    "# src_folder = '/scratch/datasets/ddls/jobs/pipedream_graphs/translation/profiles/'\n",
    "# target_folder = '/scratch/datasets/ddls/jobs/translation/training'\n",
    "# # target_folder = '/scratch/datasets/ddls/jobs/translation/validation'"
   ]
  },
  {
   "cell_type": "code",
   "execution_count": 33,
   "id": "58f6ceb6-8160-438c-b094-967d235dbc43",
   "metadata": {},
   "outputs": [
    {
     "name": "stdout",
     "output_type": "stream",
     "text": [
      "['/scratch/datasets/ddls/jobs/pipedream_graphs/image_classification/profiles/alexnet', '/scratch/datasets/ddls/jobs/pipedream_graphs/image_classification/profiles/nasnetamobile', '/scratch/datasets/ddls/jobs/pipedream_graphs/image_classification/profiles/resnet101', '/scratch/datasets/ddls/jobs/pipedream_graphs/image_classification/profiles/resnet18', '/scratch/datasets/ddls/jobs/pipedream_graphs/image_classification/profiles/nasnetalarge', '/scratch/datasets/ddls/jobs/pipedream_graphs/image_classification/profiles/resnext50', '/scratch/datasets/ddls/jobs/pipedream_graphs/image_classification/profiles/vgg16', '/scratch/datasets/ddls/jobs/pipedream_graphs/image_classification/profiles/inception_v3', '/scratch/datasets/ddls/jobs/pipedream_graphs/image_classification/profiles/densenet121', '/scratch/datasets/ddls/jobs/pipedream_graphs/image_classification/profiles/resnet50', '/scratch/datasets/ddls/jobs/pipedream_graphs/image_classification/profiles/resnext101', '/scratch/datasets/ddls/jobs/pipedream_graphs/image_classification/profiles/squeezenet1_0']\n"
     ]
    }
   ],
   "source": [
    "graph_folders = glob.glob(src_folder + '/*')\n",
    "print(graph_folders)"
   ]
  },
  {
   "cell_type": "code",
   "execution_count": 34,
   "id": "20220a8e-10c9-4555-bef8-fef54572dbf8",
   "metadata": {},
   "outputs": [
    {
     "name": "stdout",
     "output_type": "stream",
     "text": [
      "\n",
      "alexnet\n",
      "Moving /scratch/datasets/ddls/jobs/pipedream_graphs/image_classification/profiles/alexnet/graph.txt to /scratch/datasets/ddls/jobs/image_classification/validation/alexnet.txt\n",
      "\n",
      "nasnetamobile\n",
      "Moving /scratch/datasets/ddls/jobs/pipedream_graphs/image_classification/profiles/nasnetamobile/graph.txt to /scratch/datasets/ddls/jobs/image_classification/validation/nasnetamobile.txt\n",
      "\n",
      "resnet101\n",
      "Moving /scratch/datasets/ddls/jobs/pipedream_graphs/image_classification/profiles/resnet101/graph.txt to /scratch/datasets/ddls/jobs/image_classification/validation/resnet101.txt\n",
      "\n",
      "resnet18\n",
      "Moving /scratch/datasets/ddls/jobs/pipedream_graphs/image_classification/profiles/resnet18/graph.txt to /scratch/datasets/ddls/jobs/image_classification/validation/resnet18.txt\n",
      "\n",
      "nasnetalarge\n",
      "Moving /scratch/datasets/ddls/jobs/pipedream_graphs/image_classification/profiles/nasnetalarge/graph.txt to /scratch/datasets/ddls/jobs/image_classification/validation/nasnetalarge.txt\n",
      "\n",
      "resnext50\n",
      "Moving /scratch/datasets/ddls/jobs/pipedream_graphs/image_classification/profiles/resnext50/graph.txt to /scratch/datasets/ddls/jobs/image_classification/validation/resnext50.txt\n",
      "\n",
      "vgg16\n",
      "Moving /scratch/datasets/ddls/jobs/pipedream_graphs/image_classification/profiles/vgg16/graph.txt to /scratch/datasets/ddls/jobs/image_classification/validation/vgg16.txt\n",
      "\n",
      "inception_v3\n",
      "Moving /scratch/datasets/ddls/jobs/pipedream_graphs/image_classification/profiles/inception_v3/graph.txt to /scratch/datasets/ddls/jobs/image_classification/validation/inception_v3.txt\n",
      "\n",
      "densenet121\n",
      "Moving /scratch/datasets/ddls/jobs/pipedream_graphs/image_classification/profiles/densenet121/graph.txt to /scratch/datasets/ddls/jobs/image_classification/validation/densenet121.txt\n",
      "\n",
      "resnet50\n",
      "Moving /scratch/datasets/ddls/jobs/pipedream_graphs/image_classification/profiles/resnet50/graph.txt to /scratch/datasets/ddls/jobs/image_classification/validation/resnet50.txt\n",
      "\n",
      "resnext101\n",
      "Moving /scratch/datasets/ddls/jobs/pipedream_graphs/image_classification/profiles/resnext101/graph.txt to /scratch/datasets/ddls/jobs/image_classification/validation/resnext101.txt\n",
      "\n",
      "squeezenet1_0\n",
      "Moving /scratch/datasets/ddls/jobs/pipedream_graphs/image_classification/profiles/squeezenet1_0/graph.txt to /scratch/datasets/ddls/jobs/image_classification/validation/squeezenet1_0.txt\n"
     ]
    }
   ],
   "source": [
    "for graph_folder in graph_folders:\n",
    "    graph_name = graph_folder.split('/')[-1]\n",
    "    src_path = graph_folder + '/graph.txt'\n",
    "    dst_path = target_folder + f'/{graph_name}.txt'\n",
    "    print(f'\\n{graph_name}\\nMoving {src_path} to {dst_path}')\n",
    "    shutil.copy(src_path, dst_path)"
   ]
  },
  {
   "cell_type": "code",
   "execution_count": null,
   "id": "869e08cb-3a7a-41e4-bce8-db99099bb204",
   "metadata": {},
   "outputs": [],
   "source": []
  }
 ],
 "metadata": {
  "kernelspec": {
   "display_name": "ddls",
   "language": "python",
   "name": "ddls"
  },
  "language_info": {
   "codemirror_mode": {
    "name": "ipython",
    "version": 3
   },
   "file_extension": ".py",
   "mimetype": "text/x-python",
   "name": "python",
   "nbconvert_exporter": "python",
   "pygments_lexer": "ipython3",
   "version": "3.9.7"
  }
 },
 "nbformat": 4,
 "nbformat_minor": 5
}
