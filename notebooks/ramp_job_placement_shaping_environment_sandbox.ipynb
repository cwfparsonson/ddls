{
 "cells": [
  {
   "cell_type": "code",
   "execution_count": null,
   "id": "09889fac-9808-4bd8-90d0-98cd2fffd4f1",
   "metadata": {},
   "outputs": [],
   "source": [
    "%load_ext autoreload\n",
    "from ddls.devices.processors.gpus.A100 import A100\n",
    "from ddls.plotting.plotting import plot_computation_graph\n",
    "from ddls.environments.ramp_job_placement_shaping.ramp_job_placement_shaping_environment import RampJobPlacementShapingEnvironment\n",
    "from ddls.demands.jobs.job import Job\n",
    "from ddls.distributions.uniform import Uniform\n",
    "from ddls.utils import seed_stochastic_modules_globally\n",
    "\n",
    "import glob\n",
    "import numpy as np"
   ]
  }
 ],
 "metadata": {
  "kernelspec": {
   "display_name": "ddls",
   "language": "python",
   "name": "ddls"
  },
  "language_info": {
   "codemirror_mode": {
    "name": "ipython",
    "version": 3
   },
   "file_extension": ".py",
   "mimetype": "text/x-python",
   "name": "python",
   "nbconvert_exporter": "python",
   "pygments_lexer": "ipython3",
   "version": "3.9.7"
  }
 },
 "nbformat": 4,
 "nbformat_minor": 5
}
